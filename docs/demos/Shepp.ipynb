{
 "cells": [
  {
   "cell_type": "markdown",
   "metadata": {},
   "source": [
    "# Simple Phantom Construction Demo"
   ]
  },
  {
   "cell_type": "markdown",
   "metadata": {},
   "source": [
    "Import tomography/xdesign."
   ]
  },
  {
   "cell_type": "code",
   "execution_count": null,
   "metadata": {
    "collapsed": false
   },
   "outputs": [],
   "source": [
    "import matplotlib.pyplot as plt\n",
    "import numpy as np\n",
    "from xdesign import *"
   ]
  },
  {
   "cell_type": "markdown",
   "metadata": {},
   "source": [
    "Create various `Features` with geometries. Assign attenuation `values` to each of the `Features`. Plot the `Phantom`."
   ]
  },
  {
   "cell_type": "code",
   "execution_count": null,
   "metadata": {
    "collapsed": false
   },
   "outputs": [],
   "source": [
    "head = Feature(Circle(Point(0.5, 0.5), radius=0.5))\n",
    "head.mass_atten = 1\n",
    "eyeL = Feature(Circle(Point(0.3, 0.5), radius=0.1))\n",
    "eyeL.mass_atten = 1\n",
    "eyeR = Feature(Circle(Point(0.7, 0.5), radius=0.1))\n",
    "eyeR.mass_atten = 1\n",
    "mouth = Feature(Triangle(Point(0.2, 0.7), Point(0.5, 0.8), Point(0.8, 0.7)))\n",
    "mouth.mass_atten = -1\n",
    "\n",
    "Shepp = Phantom()\n",
    "Shepp.append(head)\n",
    "Shepp.append(eyeL)\n",
    "Shepp.append(eyeR)\n",
    "Shepp.append(mouth)\n",
    "\n",
    "sidebyside(Shepp, size=100, labels=True)\n",
    "plt.savefig('Shepp_sidebyside.png', dpi=600,\n",
    "        orientation='landscape', papertype=None, format=None,\n",
    "        transparent=True, bbox_inches='tight', pad_inches=0.0,\n",
    "        frameon=False)\n",
    "plt.show()"
   ]
  },
  {
   "cell_type": "markdown",
   "metadata": {},
   "source": [
    "Simulate data acquisition for parallel beam around 180 degrees."
   ]
  },
  {
   "cell_type": "code",
   "execution_count": null,
   "metadata": {
    "collapsed": false
   },
   "outputs": [],
   "source": [
    "sx, sy = 100, 100\n",
    "step = 1. / sy\n",
    "prb = Probe(Point(step / 2., -10), Point(step / 2., 10), step)\n",
    "theta = np.pi / sx\n",
    "sino = np.zeros(sx * sy)\n",
    "a = 0\n",
    "for m in range(sx):\n",
    "    for n in range(sy):\n",
    "        update_progress((m*sy + n)/(sx*sy))\n",
    "        sino[a] = prb.measure(Shepp)\n",
    "        a += 1\n",
    "        prb.translate(step)\n",
    "    prb.translate(-1)\n",
    "    prb.rotate(theta, Point(0.5, 0.5))\n",
    "update_progress(1)\n",
    "\n",
    "plt.figure(figsize=(8, 8))\n",
    "plt.imshow(np.reshape(sino, (sx, sy)), cmap='inferno', interpolation='nearest')\n",
    "plt.savefig('Shepp_sinogram.png', dpi=600,\n",
    "        orientation='landscape', papertype=None, format=None,\n",
    "        transparent=True, bbox_inches='tight', pad_inches=0.0,\n",
    "        frameon=False)\n",
    "plt.show()"
   ]
  }
 ],
 "metadata": {
  "anaconda-cloud": {},
  "kernelspec": {
   "display_name": "Python [default]",
   "language": "python",
   "name": "python3"
  },
  "language_info": {
   "codemirror_mode": {
    "name": "ipython",
    "version": 3
   },
   "file_extension": ".py",
   "mimetype": "text/x-python",
   "name": "python",
   "nbconvert_exporter": "python",
   "pygments_lexer": "ipython3",
   "version": "3.5.2"
  }
 },
 "nbformat": 4,
 "nbformat_minor": 1
}
