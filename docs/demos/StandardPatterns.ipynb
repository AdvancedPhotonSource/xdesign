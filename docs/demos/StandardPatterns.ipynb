{
 "cells": [
  {
   "cell_type": "markdown",
   "metadata": {},
   "source": [
    "# Standard Test Patterns"
   ]
  },
  {
   "cell_type": "code",
   "execution_count": null,
   "metadata": {
    "collapsed": false
   },
   "outputs": [],
   "source": [
    "from xdesign import *\n",
    "from xdesign.material import SlantedSquares, DogaCircles\n",
    "import numpy as np\n",
    "import matplotlib.pyplot as plt\n",
    "\n",
    "def sidebyside(p):\n",
    "    '''Displays the geometry and the discrete mass_atten property function of the given phantom side by side.'''\n",
    "    fig = plt.figure()\n",
    "    axis = fig.add_subplot(121, aspect='equal')\n",
    "    plt.grid('on')\n",
    "    plt.gca().invert_yaxis()\n",
    "    plot_phantom(p, axis=axis)\n",
    "    plt.subplot(1,2,2)\n",
    "    plt.imshow(discrete_phantom(p,100), cmap=plt.cm.inferno)\n",
    "    plt.show()"
   ]
  },
  {
   "cell_type": "code",
   "execution_count": null,
   "metadata": {
    "collapsed": false
   },
   "outputs": [],
   "source": [
    "p = SlantedSquares(count=16, angle=5/360*2*np.pi, gap=0.01)\n",
    "sidebyside(p)"
   ]
  },
  {
   "cell_type": "code",
   "execution_count": null,
   "metadata": {
    "collapsed": false
   },
   "outputs": [],
   "source": [
    "h = HyperbolicConcentric()\n",
    "sidebyside(h)"
   ]
  },
  {
   "cell_type": "code",
   "execution_count": null,
   "metadata": {
    "collapsed": false
   },
   "outputs": [],
   "source": [
    "u = UnitCircle(radius=0.4, mass_atten=1) \n",
    "sidebyside(u)"
   ]
  },
  {
   "cell_type": "code",
   "execution_count": null,
   "metadata": {
    "collapsed": false
   },
   "outputs": [],
   "source": [
    "d = DynamicRange(steps=16, jitter=True, shape='square')\n",
    "sidebyside(d)"
   ]
  },
  {
   "cell_type": "code",
   "execution_count": null,
   "metadata": {
    "collapsed": false
   },
   "outputs": [],
   "source": [
    "l = DogaCircles(n_sizes=8, size_ratio=0.5, n_shuffles=0)\n",
    "l.rotate(np.pi/2, Point(0.5, 0.5))\n",
    "sidebyside(l)"
   ]
  }
 ],
 "metadata": {
  "anaconda-cloud": {},
  "kernelspec": {
   "display_name": "Python [default]",
   "language": "python",
   "name": "python3"
  },
  "language_info": {
   "codemirror_mode": {
    "name": "ipython",
    "version": 3
   },
   "file_extension": ".py",
   "mimetype": "text/x-python",
   "name": "python",
   "nbconvert_exporter": "python",
   "pygments_lexer": "ipython3",
   "version": "3.5.2"
  }
 },
 "nbformat": 4,
 "nbformat_minor": 1
}
